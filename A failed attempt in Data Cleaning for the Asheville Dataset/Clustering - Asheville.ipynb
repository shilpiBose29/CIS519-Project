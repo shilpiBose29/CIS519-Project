{
 "cells": [
  {
   "cell_type": "code",
   "execution_count": 6,
   "metadata": {},
   "outputs": [],
   "source": [
    "from __future__ import absolute_import\n",
    "from __future__ import division\n",
    "from __future__ import print_function\n",
    "import numpy as np\n",
    "import matplotlib.pyplot as plt\n",
    "import pandas as pd"
   ]
  },
  {
   "cell_type": "code",
   "execution_count": 7,
   "metadata": {},
   "outputs": [],
   "source": [
    "df = pd.read_csv('datasets/Asheville/Asheville-processed.csv')"
   ]
  },
  {
   "cell_type": "code",
   "execution_count": 12,
   "metadata": {},
   "outputs": [],
   "source": [
    "amn_cols = [col for col in df.columns if col.startswith('AMN_')]"
   ]
  },
  {
   "cell_type": "code",
   "execution_count": 98,
   "metadata": {
    "scrolled": true
   },
   "outputs": [
    {
     "name": "stdout",
     "output_type": "stream",
     "text": [
      "(39, 696)\n",
      "[19, 348]\n"
     ]
    }
   ],
   "source": [
    "amn_df = df.loc[:, amn_cols].sort_values(amn_cols)\n",
    "amns_in_freq_order = amn_df.sum().sort_values(ascending = False).index\n",
    "amn_df = amn_df.reindex_axis(amns_in_freq_order, axis=1)\n",
    "\n",
    "amns_not_too_common = amn_df.columns[amn_df.sum()<n*0.9]\n",
    "data_df = amn_df.loc[:, amns_not_too_common].T\n",
    "print(data_df.shape)\n",
    "print([int(i/2) for i in data_df.shape])"
   ]
  },
  {
   "cell_type": "code",
   "execution_count": 99,
   "metadata": {},
   "outputs": [
    {
     "data": {
      "image/png": "[encoded data removed]",
      "text/plain": [
       "<matplotlib.figure.Figure at 0x11dd2a890>"
      ]
     },
     "metadata": {},
     "output_type": "display_data"
    }
   ],
   "source": [
    "fig, ax = plt.subplots(figsize=[int(i/2) for i in data_df.shape])\n",
    "#plt.yticks(data_df.index, data_df, fontsize='small')\n",
    "ax.imshow(data_df, cmap=plt.cm.gray_r, interpolation='none')\n",
    "plt.show()"
   ]
  },
  {
   "cell_type": "code",
   "execution_count": null,
   "metadata": {},
   "outputs": [],
   "source": [
    "#from sklearn.neighbors import NearestNeighbors\n",
    "#nbrs = NearestNeighbors(n_neighbors=2, algorithm='ball_tree').fit(X)"
   ]
  },
  {
   "cell_type": "raw",
   "metadata": {},
   "source": [
    "# what I want to do manually:\n",
    "\n",
    "amn_groups = {\n",
    " 'AMN_group_\"pets friendly\"': [\n",
    "    'AMN_cat(s)',\n",
    "    'AMN_dog(s)',\n",
    "    'AMN_\"other pet(s)\"',\n",
    "    'AMN_\"pets allowed\"',\n",
    "    'AMN_\"pets live on this property\"'],\n",
    " 'AMN_group_\"safety measures\"': [\n",
    "    'AMN_\"lock on bedroom door\"',\n",
    "    'AMN_\"safety card\"'],\n",
    " 'AMN_group_\"winter friendly\"': [\n",
    "    'AMN_\"hot tub\"',\n",
    "    'AMN_\"indoor fireplace\"',\n",
    "    'AMN_heating']}\n",
    "\n",
    "amn_grouped_df = amn_df.copy()\n",
    "\n",
    "for group_name, group_members in amn_groups.items():\n",
    "    amn_grouped_df.loc[:, group_name] = amn_df.loc[:, group_members].sum(axis = 1)\n",
    "    amn_grouped_df.drop(group_members, axis=1, inplace=True)\n",
    "    \n",
    "amn_grouped_df.T"
   ]
  },
  {
   "cell_type": "code",
   "execution_count": 130,
   "metadata": {},
   "outputs": [
    {
     "name": "stdout",
     "output_type": "stream",
     "text": [
      "(696, 3)\n"
     ]
    },
    {
     "data": {
      "text/html": [
       "<div>\n",
       "<style>\n",
       "    .dataframe thead tr:only-child th {\n",
       "        text-align: right;\n",
       "    }\n",
       "\n",
       "    .dataframe thead th {\n",
       "        text-align: left;\n",
       "    }\n",
       "\n",
       "    .dataframe tbody tr th {\n",
       "        vertical-align: top;\n",
       "    }\n",
       "</style>\n",
       "<table border=\"1\" class=\"dataframe\">\n",
       "  <thead>\n",
       "    <tr style=\"text-align: right;\">\n",
       "      <th></th>\n",
       "      <th>0</th>\n",
       "      <th>1</th>\n",
       "      <th>2</th>\n",
       "    </tr>\n",
       "  </thead>\n",
       "  <tbody>\n",
       "    <tr>\n",
       "      <th>0</th>\n",
       "      <td>-0.104289</td>\n",
       "      <td>0.138639</td>\n",
       "      <td>0.165551</td>\n",
       "    </tr>\n",
       "    <tr>\n",
       "      <th>1</th>\n",
       "      <td>-0.166247</td>\n",
       "      <td>0.259486</td>\n",
       "      <td>0.185090</td>\n",
       "    </tr>\n",
       "    <tr>\n",
       "      <th>2</th>\n",
       "      <td>-0.251236</td>\n",
       "      <td>0.102370</td>\n",
       "      <td>0.332033</td>\n",
       "    </tr>\n",
       "    <tr>\n",
       "      <th>3</th>\n",
       "      <td>-0.267511</td>\n",
       "      <td>-0.231966</td>\n",
       "      <td>0.173593</td>\n",
       "    </tr>\n",
       "    <tr>\n",
       "      <th>4</th>\n",
       "      <td>-0.203093</td>\n",
       "      <td>0.448444</td>\n",
       "      <td>0.400758</td>\n",
       "    </tr>\n",
       "  </tbody>\n",
       "</table>\n",
       "</div>"
      ],
      "text/plain": [
       "          0         1         2\n",
       "0 -0.104289  0.138639  0.165551\n",
       "1 -0.166247  0.259486  0.185090\n",
       "2 -0.251236  0.102370  0.332033\n",
       "3 -0.267511 -0.231966  0.173593\n",
       "4 -0.203093  0.448444  0.400758"
      ]
     },
     "execution_count": 130,
     "metadata": {},
     "output_type": "execute_result"
    }
   ],
   "source": [
    "from sklearn.decomposition import PCA\n",
    "pca = PCA(n_components=3)\n",
    "\n",
    "from sklearn.preprocessing import Normalizer\n",
    "nml = Normalizer()\n",
    "\n",
    "amn_pca = pca.fit_transform( nml.fit_transform( amn_df ) )\n",
    "\n",
    "amn_pca_df = pd.DataFrame(amn_pca)\n",
    "print(amn_pca_df.shape)\n",
    "amn_pca_df.head()"
   ]
  },
  {
   "cell_type": "code",
   "execution_count": 131,
   "metadata": {},
   "outputs": [],
   "source": [
    "amn_pca_df.to_csv('datasets/Asheville/amn_pca.csv', index = False, header=False)"
   ]
  },
  {
   "cell_type": "code",
   "execution_count": 146,
   "metadata": {},
   "outputs": [],
   "source": [
    "amn_df.to_csv('datasets/Asheville/amn.csv', index = False, header=True)"
   ]
  },
  {
   "cell_type": "markdown",
   "metadata": {},
   "source": [
    "PCA"
   ]
  },
  {
   "cell_type": "code",
   "execution_count": 138,
   "metadata": {},
   "outputs": [],
   "source": [
    "from sklearn.decomposition import PCA\n",
    "from sklearn.preprocessing import scale"
   ]
  },
  {
   "cell_type": "code",
   "execution_count": 139,
   "metadata": {},
   "outputs": [],
   "source": [
    "amns = amn_df.as_matrix()"
   ]
  },
  {
   "cell_type": "code",
   "execution_count": 145,
   "metadata": {},
   "outputs": [
    {
     "name": "stdout",
     "output_type": "stream",
     "text": [
      "Scaling the values...\n",
      "Fit PCA...\n",
      "Cumulative Variance explains...\n",
      "Plotting...\n"
     ]
    },
    {
     "data": {
      "image/png": "[encoded data removed]",
      "text/plain": [
       "<matplotlib.figure.Figure at 0x120c28f10>"
      ]
     },
     "metadata": {},
     "output_type": "display_data"
    }
   ],
   "source": [
    "print(\"Scaling the values...\")\n",
    "amns_scaled = scale(amns)\n",
    "\n",
    "print(\"Fit PCA...\")\n",
    "pca = PCA(n_components='mle')\n",
    "pca.fit(amns_scaled)\n",
    "\n",
    "print(\"Cumulative Variance explains...\")\n",
    "var1 = np.cumsum(pca.explained_variance_ratio_*100)   #The amount of variance that each PC explains\n",
    "\n",
    "print(\"Plotting...\")\n",
    "plt.plot(var1)\n",
    "plt.show()"
   ]
  },
  {
   "cell_type": "code",
   "execution_count": null,
   "metadata": {},
   "outputs": [],
   "source": []
  }
 ],
 "metadata": {
  "kernelspec": {
   "display_name": "Python 2",
   "language": "python",
   "name": "python2"
  },
  "language_info": {
   "codemirror_mode": {
    "name": "ipython",
    "version": 2
   },
   "file_extension": ".py",
   "mimetype": "text/x-python",
   "name": "python",
   "nbconvert_exporter": "python",
   "pygments_lexer": "ipython2",
   "version": "2.7.13"
  }
 },
 "nbformat": 4,
 "nbformat_minor": 2
}
