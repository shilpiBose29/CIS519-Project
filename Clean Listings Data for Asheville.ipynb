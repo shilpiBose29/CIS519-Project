{
 "cells": [
  {
   "cell_type": "markdown",
   "metadata": {},
   "source": [
    "# Loading Data"
   ]
  },
  {
   "cell_type": "code",
   "execution_count": 1,
   "metadata": {
    "scrolled": true
   },
   "outputs": [
    {
     "name": "stdout",
     "output_type": "stream",
     "text": [
      "['id',\n",
      " 'host_since',\n",
      " 'host_response_rate',\n",
      " 'host_acceptance_rate',\n",
      " 'host_is_superhost',\n",
      " 'host_listings_count',\n",
      " 'host_total_listings_count',\n",
      " 'host_identity_verified',\n",
      " 'city',\n",
      " 'latitude',\n",
      " 'longitude',\n",
      " 'is_location_exact',\n",
      " 'property_type',\n",
      " 'room_type',\n",
      " 'accommodates',\n",
      " 'bathrooms',\n",
      " 'bedrooms',\n",
      " 'beds',\n",
      " 'bed_type',\n",
      " 'amenities',\n",
      " 'price',\n",
      " 'weekly_price',\n",
      " 'monthly_price',\n",
      " 'security_deposit',\n",
      " 'cleaning_fee',\n",
      " 'guests_included',\n",
      " 'extra_people',\n",
      " 'minimum_nights',\n",
      " 'maximum_nights',\n",
      " 'availability_30',\n",
      " 'availability_60',\n",
      " 'availability_90',\n",
      " 'availability_365',\n",
      " 'number_of_reviews',\n",
      " 'first_review',\n",
      " 'last_review',\n",
      " 'review_scores_rating',\n",
      " 'review_scores_accuracy',\n",
      " 'review_scores_cleanliness',\n",
      " 'review_scores_checkin',\n",
      " 'review_scores_communication',\n",
      " 'review_scores_location',\n",
      " 'review_scores_value',\n",
      " 'requires_license',\n",
      " 'instant_bookable',\n",
      " 'cancellation_policy',\n",
      " 'require_guest_profile_picture',\n",
      " 'require_guest_phone_verification',\n",
      " 'reviews_per_month']\n"
     ]
    }
   ],
   "source": [
    "# Load modules:\n",
    "import numpy as np\n",
    "import pandas as pd\n",
    "from pprint import pprint as pp\n",
    "import matplotlib.pyplot as plt\n",
    "\n",
    "# Load \"Asheville-listings.csv\":\n",
    "listings_df = pd.read_csv(\"datasets/Asheville/Asheville-listings.csv\")\n",
    "\n",
    "# Drop unwanted columns:\n",
    "cols_i_dont_care = ['calculated_host_listings_count', 'calendar_last_scraped', 'calendar_updated', \n",
    "                    'country', 'country_code', 'description', 'has_availability', 'host_about', \n",
    "                    'host_has_profile_pic', 'host_id', 'host_location', \n",
    "                    'host_name', 'host_neighbourhood', 'host_picture_url', \n",
    "                    'host_response_time', 'host_thumbnail_url', 'host_url', \n",
    "                    'jurisdiction_names', 'last_scraped', 'last_searched', \n",
    "                    'license', 'listing_url', 'market', 'medium_url', \n",
    "                    'name', 'neighborhood_overview', 'neighbourhood_cleansed', \n",
    "                    'notes', 'picture_url', 'region_id', 'region_name', \n",
    "                    'region_parent_id', 'scrape_id', 'smart_location', 'space', \n",
    "                    'state', 'street', 'summary', 'thumbnail_url', 'transit', \n",
    "                    'xl_picture_url', 'zipcode', 'experiences_offered',\n",
    "                    'square_feet', 'neighbourhood', 'host_verifications']\n",
    "listings_df.drop(cols_i_dont_care, axis=1, inplace=True)\n",
    "\n",
    "# Preview:\n",
    "listings_df.head()\n",
    "pp(list(listings_df.columns))"
   ]
  },
  {
   "cell_type": "markdown",
   "metadata": {},
   "source": [
    "# Data Cleaning"
   ]
  },
  {
   "cell_type": "markdown",
   "metadata": {},
   "source": [
    "## Trying to turn list of amenities into 0-1 vectors "
   ]
  },
  {
   "cell_type": "markdown",
   "metadata": {},
   "source": [
    "We gonna work on this column:"
   ]
  },
  {
   "cell_type": "code",
   "execution_count": 2,
   "metadata": {},
   "outputs": [
    {
     "data": {
      "text/plain": [
       "0    {\"Wireless Internet\",\"Air Conditioning\",Kitche...\n",
       "1    {TV,\"Cable TV\",Internet,\"Wireless Internet\",\"A...\n",
       "2    {TV,\"Wireless Internet\",\"Air Conditioning\",Kit...\n",
       "3    {Internet,\"Wireless Internet\",\"Air Conditionin...\n",
       "4    {Internet,\"Wireless Internet\",\"Free Parking on...\n",
       "Name: amenities, dtype: object"
      ]
     },
     "execution_count": 2,
     "metadata": {},
     "output_type": "execute_result"
    }
   ],
   "source": [
    "amenities_col = listings_df['amenities']\n",
    "amenities_col.head()"
   ]
  },
  {
   "cell_type": "markdown",
   "metadata": {},
   "source": [
    "### Using the CountVectorizer"
   ]
  },
  {
   "cell_type": "code",
   "execution_count": 3,
   "metadata": {},
   "outputs": [],
   "source": [
    "from sklearn.feature_extraction.text import CountVectorizer\n",
    "vectorizer = CountVectorizer(token_pattern = ur'(?!,|$)(.+?)(?=,|$)')\n",
    "\n",
    "# first, get rid of all the '\"'s:\n",
    "amenities_col = amenities_col.str.replace('\"', '')\n",
    "amenities_col.head()\n",
    "\n",
    "# Now actually transform the data:\n",
    "X = vectorizer.fit_transform(amenities_col)\n",
    "labels = vectorizer.get_feature_names()\n",
    "\n",
    "# The inverse should work:\n",
    "# vectorizer.inverse_transform(X)[:3]"
   ]
  },
  {
   "cell_type": "markdown",
   "metadata": {},
   "source": [
    "Data in this sparse matrix look like:"
   ]
  },
  {
   "cell_type": "code",
   "execution_count": 4,
   "metadata": {},
   "outputs": [
    {
     "data": {
      "text/plain": [
       "matrix([[0, 0, 1, ..., 0, 1, 0],\n",
       "        [0, 0, 1, ..., 0, 0, 0],\n",
       "        [0, 0, 1, ..., 0, 0, 0],\n",
       "        ..., \n",
       "        [0, 0, 1, ..., 0, 0, 0],\n",
       "        [0, 0, 1, ..., 0, 0, 0],\n",
       "        [0, 0, 1, ..., 0, 0, 0]])"
      ]
     },
     "execution_count": 4,
     "metadata": {},
     "output_type": "execute_result"
    }
   ],
   "source": [
    "vectors = X.todense()\n",
    "vectors"
   ]
  },
  {
   "cell_type": "code",
   "execution_count": 5,
   "metadata": {},
   "outputs": [
    {
     "data": {
      "text/html": [
       "<div>\n",
       "<style>\n",
       "    .dataframe thead tr:only-child th {\n",
       "        text-align: right;\n",
       "    }\n",
       "\n",
       "    .dataframe thead th {\n",
       "        text-align: left;\n",
       "    }\n",
       "\n",
       "    .dataframe tbody tr th {\n",
       "        vertical-align: top;\n",
       "    }\n",
       "</style>\n",
       "<table border=\"1\" class=\"dataframe\">\n",
       "  <thead>\n",
       "    <tr style=\"text-align: right;\">\n",
       "      <th></th>\n",
       "      <th>id</th>\n",
       "      <th>host_since</th>\n",
       "      <th>host_response_rate</th>\n",
       "      <th>host_acceptance_rate</th>\n",
       "      <th>host_is_superhost</th>\n",
       "      <th>host_listings_count</th>\n",
       "      <th>host_total_listings_count</th>\n",
       "      <th>host_identity_verified</th>\n",
       "      <th>city</th>\n",
       "      <th>latitude</th>\n",
       "      <th>...</th>\n",
       "      <th>AMN_wheelchair accessible</th>\n",
       "      <th>AMN_wireless internet</th>\n",
       "      <th>AMN_{air conditioning</th>\n",
       "      <th>AMN_{cable tv</th>\n",
       "      <th>AMN_{internet</th>\n",
       "      <th>AMN_{kitchen</th>\n",
       "      <th>AMN_{tv</th>\n",
       "      <th>AMN_{wheelchair accessible</th>\n",
       "      <th>AMN_{wireless internet</th>\n",
       "      <th>AMN_{}</th>\n",
       "    </tr>\n",
       "  </thead>\n",
       "  <tbody>\n",
       "    <tr>\n",
       "      <th>0</th>\n",
       "      <td>665257</td>\n",
       "      <td>2012-06-10</td>\n",
       "      <td>100%</td>\n",
       "      <td>NaN</td>\n",
       "      <td>f</td>\n",
       "      <td>1</td>\n",
       "      <td>1</td>\n",
       "      <td>t</td>\n",
       "      <td>Asheville</td>\n",
       "      <td>35.590784</td>\n",
       "      <td>...</td>\n",
       "      <td>0</td>\n",
       "      <td>0</td>\n",
       "      <td>0</td>\n",
       "      <td>0</td>\n",
       "      <td>0</td>\n",
       "      <td>0</td>\n",
       "      <td>0</td>\n",
       "      <td>0</td>\n",
       "      <td>1</td>\n",
       "      <td>0</td>\n",
       "    </tr>\n",
       "    <tr>\n",
       "      <th>1</th>\n",
       "      <td>2746729</td>\n",
       "      <td>2012-12-01</td>\n",
       "      <td>100%</td>\n",
       "      <td>84%</td>\n",
       "      <td>t</td>\n",
       "      <td>5</td>\n",
       "      <td>5</td>\n",
       "      <td>t</td>\n",
       "      <td>Asheville</td>\n",
       "      <td>35.584968</td>\n",
       "      <td>...</td>\n",
       "      <td>0</td>\n",
       "      <td>1</td>\n",
       "      <td>0</td>\n",
       "      <td>0</td>\n",
       "      <td>0</td>\n",
       "      <td>0</td>\n",
       "      <td>1</td>\n",
       "      <td>0</td>\n",
       "      <td>0</td>\n",
       "      <td>0</td>\n",
       "    </tr>\n",
       "    <tr>\n",
       "      <th>2</th>\n",
       "      <td>6919450</td>\n",
       "      <td>2015-06-19</td>\n",
       "      <td>NaN</td>\n",
       "      <td>NaN</td>\n",
       "      <td>f</td>\n",
       "      <td>1</td>\n",
       "      <td>1</td>\n",
       "      <td>f</td>\n",
       "      <td>Asheville</td>\n",
       "      <td>35.626600</td>\n",
       "      <td>...</td>\n",
       "      <td>0</td>\n",
       "      <td>1</td>\n",
       "      <td>0</td>\n",
       "      <td>0</td>\n",
       "      <td>0</td>\n",
       "      <td>0</td>\n",
       "      <td>1</td>\n",
       "      <td>0</td>\n",
       "      <td>0</td>\n",
       "      <td>0</td>\n",
       "    </tr>\n",
       "    <tr>\n",
       "      <th>3</th>\n",
       "      <td>12286328</td>\n",
       "      <td>2011-06-26</td>\n",
       "      <td>100%</td>\n",
       "      <td>68%</td>\n",
       "      <td>f</td>\n",
       "      <td>6</td>\n",
       "      <td>6</td>\n",
       "      <td>f</td>\n",
       "      <td>Asheville</td>\n",
       "      <td>35.579159</td>\n",
       "      <td>...</td>\n",
       "      <td>0</td>\n",
       "      <td>1</td>\n",
       "      <td>0</td>\n",
       "      <td>0</td>\n",
       "      <td>1</td>\n",
       "      <td>0</td>\n",
       "      <td>0</td>\n",
       "      <td>0</td>\n",
       "      <td>0</td>\n",
       "      <td>0</td>\n",
       "    </tr>\n",
       "    <tr>\n",
       "      <th>4</th>\n",
       "      <td>156926</td>\n",
       "      <td>2011-06-26</td>\n",
       "      <td>100%</td>\n",
       "      <td>68%</td>\n",
       "      <td>f</td>\n",
       "      <td>6</td>\n",
       "      <td>6</td>\n",
       "      <td>f</td>\n",
       "      <td>Asheville</td>\n",
       "      <td>35.577755</td>\n",
       "      <td>...</td>\n",
       "      <td>0</td>\n",
       "      <td>1</td>\n",
       "      <td>0</td>\n",
       "      <td>0</td>\n",
       "      <td>1</td>\n",
       "      <td>0</td>\n",
       "      <td>0</td>\n",
       "      <td>0</td>\n",
       "      <td>0</td>\n",
       "      <td>0</td>\n",
       "    </tr>\n",
       "  </tbody>\n",
       "</table>\n",
       "<p>5 rows × 117 columns</p>\n",
       "</div>"
      ],
      "text/plain": [
       "         id  host_since host_response_rate host_acceptance_rate  \\\n",
       "0    665257  2012-06-10               100%                  NaN   \n",
       "1   2746729  2012-12-01               100%                  84%   \n",
       "2   6919450  2015-06-19                NaN                  NaN   \n",
       "3  12286328  2011-06-26               100%                  68%   \n",
       "4    156926  2011-06-26               100%                  68%   \n",
       "\n",
       "  host_is_superhost  host_listings_count  host_total_listings_count  \\\n",
       "0                 f                    1                          1   \n",
       "1                 t                    5                          5   \n",
       "2                 f                    1                          1   \n",
       "3                 f                    6                          6   \n",
       "4                 f                    6                          6   \n",
       "\n",
       "  host_identity_verified       city   latitude  ...    \\\n",
       "0                      t  Asheville  35.590784  ...     \n",
       "1                      t  Asheville  35.584968  ...     \n",
       "2                      f  Asheville  35.626600  ...     \n",
       "3                      f  Asheville  35.579159  ...     \n",
       "4                      f  Asheville  35.577755  ...     \n",
       "\n",
       "   AMN_wheelchair accessible AMN_wireless internet AMN_{air conditioning  \\\n",
       "0                          0                     0                     0   \n",
       "1                          0                     1                     0   \n",
       "2                          0                     1                     0   \n",
       "3                          0                     1                     0   \n",
       "4                          0                     1                     0   \n",
       "\n",
       "  AMN_{cable tv  AMN_{internet  AMN_{kitchen  AMN_{tv  \\\n",
       "0             0              0             0        0   \n",
       "1             0              0             0        1   \n",
       "2             0              0             0        1   \n",
       "3             0              1             0        0   \n",
       "4             0              1             0        0   \n",
       "\n",
       "   AMN_{wheelchair accessible AMN_{wireless internet AMN_{}  \n",
       "0                           0                      1      0  \n",
       "1                           0                      0      0  \n",
       "2                           0                      0      0  \n",
       "3                           0                      0      0  \n",
       "4                           0                      0      0  \n",
       "\n",
       "[5 rows x 117 columns]"
      ]
     },
     "execution_count": 5,
     "metadata": {},
     "output_type": "execute_result"
    }
   ],
   "source": [
    "listings_df.drop('amenities', axis=1, inplace=True)\n",
    "\n",
    "vectors_df = pd.DataFrame(vectors, columns = ['AMN_'+label for label in labels])\n",
    "\n",
    "listings_AMN_df = pd.concat([listings_df, vectors_df], axis=1)\n",
    "\n",
    "# listings_AMN_df.to_csv('datasets/Asheville/Asheville-listings-with-amenities.csv')\n",
    "\n",
    "listings_AMN_df.head()"
   ]
  },
  {
   "cell_type": "markdown",
   "metadata": {},
   "source": [
    "## Typed Features"
   ]
  },
  {
   "cell_type": "markdown",
   "metadata": {},
   "source": [
    "First of all:"
   ]
  },
  {
   "cell_type": "code",
   "execution_count": 6,
   "metadata": {},
   "outputs": [],
   "source": [
    "listings_latest_df = listings_AMN_df"
   ]
  },
  {
   "cell_type": "markdown",
   "metadata": {},
   "source": [
    "For columns whose possible values are really comparable, we can convert them into a scale:"
   ]
  },
  {
   "cell_type": "code",
   "execution_count": 7,
   "metadata": {},
   "outputs": [],
   "source": [
    "def convertComparableFeatureToNumerical(df, col_name, expected_types, assigned_values):\n",
    "    possible_types = df[col_name].unique().tolist()\n",
    "    #print possible_types\n",
    "    assert set(expected_types).issuperset(set(possible_types))\n",
    "    converter = dict(zip(possible_types, assigned_values)) \n",
    "    pp(converter)\n",
    "    return df.replace({col_name: converter})"
   ]
  },
  {
   "cell_type": "code",
   "execution_count": 8,
   "metadata": {},
   "outputs": [
    {
     "name": "stdout",
     "output_type": "stream",
     "text": [
      "{'flexible': 1, 'moderate': 2, 'strict': 3, 'super_strict_30': 4}\n",
      "{'Entire home/apt': 3, 'Private room': 2, 'Shared room': 1}\n",
      "{'Airbed': 1, 'Couch': 2, 'Futon': 4, 'Pull-out Sofa': 3, 'Real Bed': 5}\n"
     ]
    }
   ],
   "source": [
    "listings_latest_df = convertComparableFeatureToNumerical(listings_latest_df, 'cancellation_policy', \n",
    "                                   expected_types  = ['moderate', 'strict', 'flexible', 'super_strict_30', 'super_strict_60'],\n",
    "                                   assigned_values = [2, 3, 1, 4])\n",
    "\n",
    "\n",
    "listings_latest_df = convertComparableFeatureToNumerical(listings_latest_df, 'room_type', \n",
    "                                   expected_types  = ['Entire home/apt', 'Private room', 'Shared room'],\n",
    "                                   assigned_values = [3, 2, 1])\n",
    "\n",
    "listings_latest_df = convertComparableFeatureToNumerical(listings_latest_df, 'bed_type', \n",
    "                                   expected_types  = ['Real Bed', 'Airbed', 'Futon', 'Pull-out Sofa', 'Couch'],\n",
    "                                   assigned_values = [5,1,4,3,2])"
   ]
  },
  {
   "cell_type": "markdown",
   "metadata": {},
   "source": [
    "For those not really so, we have to expand those columns:"
   ]
  },
  {
   "cell_type": "code",
   "execution_count": 9,
   "metadata": {},
   "outputs": [
    {
     "name": "stdout",
     "output_type": "stream",
     "text": [
      "Expanded property_type into ['POPTY=Apartment', 'POPTY=Bed & Breakfast', 'POPTY=Bungalow', 'POPTY=Cabin', 'POPTY=Camper/RV', 'POPTY=Chalet', 'POPTY=Condominium', 'POPTY=Dorm', 'POPTY=Earth House', 'POPTY=House', 'POPTY=Loft', 'POPTY=Other', 'POPTY=Tent', 'POPTY=Townhouse', 'POPTY=Treehouse', 'POPTY=Villa', 'POPTY=Yurt'] .\n"
     ]
    }
   ],
   "source": [
    "from sklearn.preprocessing import LabelBinarizer\n",
    "\n",
    "#col_name           = 'bed_type' # configure this!\n",
    "#binarizer          = LabelBinarizer()\n",
    "#try:\n",
    "#   X              = binarizer.fit_transform(listings_latest_df[col_name])\n",
    "#except KeyError:\n",
    "#    print 'Error: Column already expanded. Skipping.'\n",
    "#else:\n",
    "#    col_labels         = ['BED='+i for i in binarizer.classes_]\n",
    "#    X_df               = pd.DataFrame(X, columns=col_labels)\n",
    "#    listings_latest_df.drop(col_name, axis=1, inplace=True) # drop the old column, by name\n",
    "#    listings_latest_df = pd.concat([listings_latest_df, X_df], axis=1) # attach the expanded features\n",
    "#    print 'Expanded', col_name, 'into', col_labels,'.'\n",
    "\n",
    "#Funny that listings providing something other than real beds are soooo rare:\n",
    "#X_df[X_df['BED=Real Bed']==0]\n",
    "\n",
    "col_name           = 'property_type' # configure this!\n",
    "binarizer          = LabelBinarizer()\n",
    "try:\n",
    "    X              = binarizer.fit_transform(listings_latest_df[col_name])\n",
    "except KeyError:\n",
    "    print 'Error: Column already expanded. Skipping.'\n",
    "else:\n",
    "    col_labels         = ['POPTY='+i for i in binarizer.classes_]\n",
    "    X_df               = pd.DataFrame(X, columns=col_labels)\n",
    "    listings_latest_df.drop(col_name, axis=1, inplace=True) # drop the old column, by name\n",
    "    listings_latest_df = pd.concat([listings_latest_df, X_df], axis=1) # attach the expanded features\n",
    "    print 'Expanded', col_name, 'into', col_labels,'.'"
   ]
  },
  {
   "cell_type": "code",
   "execution_count": 10,
   "metadata": {
    "scrolled": true
   },
   "outputs": [
    {
     "data": {
      "text/html": [
       "<div>\n",
       "<style>\n",
       "    .dataframe thead tr:only-child th {\n",
       "        text-align: right;\n",
       "    }\n",
       "\n",
       "    .dataframe thead th {\n",
       "        text-align: left;\n",
       "    }\n",
       "\n",
       "    .dataframe tbody tr th {\n",
       "        vertical-align: top;\n",
       "    }\n",
       "</style>\n",
       "<table border=\"1\" class=\"dataframe\">\n",
       "  <thead>\n",
       "    <tr style=\"text-align: right;\">\n",
       "      <th></th>\n",
       "      <th>id</th>\n",
       "      <th>host_since</th>\n",
       "      <th>host_response_rate</th>\n",
       "      <th>host_acceptance_rate</th>\n",
       "      <th>host_is_superhost</th>\n",
       "      <th>host_listings_count</th>\n",
       "      <th>host_total_listings_count</th>\n",
       "      <th>host_identity_verified</th>\n",
       "      <th>city</th>\n",
       "      <th>latitude</th>\n",
       "      <th>...</th>\n",
       "      <th>POPTY=Dorm</th>\n",
       "      <th>POPTY=Earth House</th>\n",
       "      <th>POPTY=House</th>\n",
       "      <th>POPTY=Loft</th>\n",
       "      <th>POPTY=Other</th>\n",
       "      <th>POPTY=Tent</th>\n",
       "      <th>POPTY=Townhouse</th>\n",
       "      <th>POPTY=Treehouse</th>\n",
       "      <th>POPTY=Villa</th>\n",
       "      <th>POPTY=Yurt</th>\n",
       "    </tr>\n",
       "  </thead>\n",
       "  <tbody>\n",
       "    <tr>\n",
       "      <th>1</th>\n",
       "      <td>2746729</td>\n",
       "      <td>2012-12-01</td>\n",
       "      <td>100.0</td>\n",
       "      <td>84.0</td>\n",
       "      <td>t</td>\n",
       "      <td>5</td>\n",
       "      <td>5</td>\n",
       "      <td>t</td>\n",
       "      <td>Asheville</td>\n",
       "      <td>35.584968</td>\n",
       "      <td>...</td>\n",
       "      <td>0</td>\n",
       "      <td>0</td>\n",
       "      <td>0</td>\n",
       "      <td>0</td>\n",
       "      <td>0</td>\n",
       "      <td>1</td>\n",
       "      <td>0</td>\n",
       "      <td>0</td>\n",
       "      <td>0</td>\n",
       "      <td>0</td>\n",
       "    </tr>\n",
       "    <tr>\n",
       "      <th>4</th>\n",
       "      <td>156926</td>\n",
       "      <td>2011-06-26</td>\n",
       "      <td>100.0</td>\n",
       "      <td>68.0</td>\n",
       "      <td>f</td>\n",
       "      <td>6</td>\n",
       "      <td>6</td>\n",
       "      <td>f</td>\n",
       "      <td>Asheville</td>\n",
       "      <td>35.577755</td>\n",
       "      <td>...</td>\n",
       "      <td>0</td>\n",
       "      <td>0</td>\n",
       "      <td>1</td>\n",
       "      <td>0</td>\n",
       "      <td>0</td>\n",
       "      <td>0</td>\n",
       "      <td>0</td>\n",
       "      <td>0</td>\n",
       "      <td>0</td>\n",
       "      <td>0</td>\n",
       "    </tr>\n",
       "    <tr>\n",
       "      <th>5</th>\n",
       "      <td>3767793</td>\n",
       "      <td>2013-10-12</td>\n",
       "      <td>100.0</td>\n",
       "      <td>73.0</td>\n",
       "      <td>f</td>\n",
       "      <td>3</td>\n",
       "      <td>3</td>\n",
       "      <td>t</td>\n",
       "      <td>Asheville</td>\n",
       "      <td>35.635953</td>\n",
       "      <td>...</td>\n",
       "      <td>0</td>\n",
       "      <td>0</td>\n",
       "      <td>1</td>\n",
       "      <td>0</td>\n",
       "      <td>0</td>\n",
       "      <td>0</td>\n",
       "      <td>0</td>\n",
       "      <td>0</td>\n",
       "      <td>0</td>\n",
       "      <td>0</td>\n",
       "    </tr>\n",
       "    <tr>\n",
       "      <th>6</th>\n",
       "      <td>5927700</td>\n",
       "      <td>2015-02-12</td>\n",
       "      <td>100.0</td>\n",
       "      <td>100.0</td>\n",
       "      <td>f</td>\n",
       "      <td>1</td>\n",
       "      <td>1</td>\n",
       "      <td>t</td>\n",
       "      <td>Asheville</td>\n",
       "      <td>35.589878</td>\n",
       "      <td>...</td>\n",
       "      <td>0</td>\n",
       "      <td>0</td>\n",
       "      <td>1</td>\n",
       "      <td>0</td>\n",
       "      <td>0</td>\n",
       "      <td>0</td>\n",
       "      <td>0</td>\n",
       "      <td>0</td>\n",
       "      <td>0</td>\n",
       "      <td>0</td>\n",
       "    </tr>\n",
       "    <tr>\n",
       "      <th>7</th>\n",
       "      <td>6698737</td>\n",
       "      <td>2015-03-19</td>\n",
       "      <td>100.0</td>\n",
       "      <td>96.0</td>\n",
       "      <td>t</td>\n",
       "      <td>1</td>\n",
       "      <td>1</td>\n",
       "      <td>t</td>\n",
       "      <td>Asheville</td>\n",
       "      <td>35.575506</td>\n",
       "      <td>...</td>\n",
       "      <td>0</td>\n",
       "      <td>0</td>\n",
       "      <td>1</td>\n",
       "      <td>0</td>\n",
       "      <td>0</td>\n",
       "      <td>0</td>\n",
       "      <td>0</td>\n",
       "      <td>0</td>\n",
       "      <td>0</td>\n",
       "      <td>0</td>\n",
       "    </tr>\n",
       "  </tbody>\n",
       "</table>\n",
       "<p>5 rows × 133 columns</p>\n",
       "</div>"
      ],
      "text/plain": [
       "        id  host_since  host_response_rate  host_acceptance_rate  \\\n",
       "1  2746729  2012-12-01               100.0                  84.0   \n",
       "4   156926  2011-06-26               100.0                  68.0   \n",
       "5  3767793  2013-10-12               100.0                  73.0   \n",
       "6  5927700  2015-02-12               100.0                 100.0   \n",
       "7  6698737  2015-03-19               100.0                  96.0   \n",
       "\n",
       "  host_is_superhost  host_listings_count  host_total_listings_count  \\\n",
       "1                 t                    5                          5   \n",
       "4                 f                    6                          6   \n",
       "5                 f                    3                          3   \n",
       "6                 f                    1                          1   \n",
       "7                 t                    1                          1   \n",
       "\n",
       "  host_identity_verified       city   latitude     ...      POPTY=Dorm  \\\n",
       "1                      t  Asheville  35.584968     ...               0   \n",
       "4                      f  Asheville  35.577755     ...               0   \n",
       "5                      t  Asheville  35.635953     ...               0   \n",
       "6                      t  Asheville  35.589878     ...               0   \n",
       "7                      t  Asheville  35.575506     ...               0   \n",
       "\n",
       "  POPTY=Earth House  POPTY=House  POPTY=Loft  POPTY=Other  POPTY=Tent  \\\n",
       "1                 0            0           0            0           1   \n",
       "4                 0            1           0            0           0   \n",
       "5                 0            1           0            0           0   \n",
       "6                 0            1           0            0           0   \n",
       "7                 0            1           0            0           0   \n",
       "\n",
       "   POPTY=Townhouse  POPTY=Treehouse  POPTY=Villa  POPTY=Yurt  \n",
       "1                0                0            0           0  \n",
       "4                0                0            0           0  \n",
       "5                0                0            0           0  \n",
       "6                0                0            0           0  \n",
       "7                0                0            0           0  \n",
       "\n",
       "[5 rows x 133 columns]"
      ]
     },
     "execution_count": 10,
     "metadata": {},
     "output_type": "execute_result"
    }
   ],
   "source": [
    "listings_df = listings_latest_df\n",
    "\n",
    "# drop listings without a single review:\n",
    "processed_df = listings_df[listings_df.number_of_reviews != 0] \\\n",
    "            .dropna(subset = ['host_response_rate', 'host_acceptance_rate', 'review_scores_value', \n",
    "                              'bathrooms', 'bedrooms', 'beds', 'review_scores_location'])\n",
    "        # drop listings with no values in these columns:\n",
    "\n",
    "# ====================    Type conversions    ====================\n",
    "\n",
    "# Convert columns in currency to floats:\n",
    "cols_in_currency = [\n",
    " 'price',\n",
    " 'weekly_price',\n",
    " 'monthly_price',\n",
    " 'security_deposit',\n",
    " 'cleaning_fee', \n",
    " 'extra_people']\n",
    "processed_df[cols_in_currency]=(listings_df[cols_in_currency]\n",
    "                              .replace( '[\\$,)]','', regex=True )\n",
    "                              .replace( '[(]','-',   regex=True ).astype(float).fillna(0))\n",
    "\n",
    "# Convert columns in percentage to floats:\n",
    "cols_in_percentage = [\n",
    "    'host_response_rate',\n",
    "    'host_acceptance_rate' ]\n",
    "processed_df[cols_in_percentage]=(listings_df[cols_in_percentage]\n",
    "                              .replace( '%','', regex=True ).astype(float).fillna(0))\n",
    "\n",
    "# scale review_scores_rating from 0~100 to 0-10:\n",
    "processed_df.loc[:, 'review_scores_rating'] = listings_df['review_scores_rating']*.1\n",
    "\n",
    "# ====================    Type conversions    ====================\n",
    "\n",
    "processed_df.head()"
   ]
  },
  {
   "cell_type": "code",
   "execution_count": 11,
   "metadata": {},
   "outputs": [
    {
     "data": {
      "text/plain": [
       "<matplotlib.figure.Figure at 0x11c54eb90>"
      ]
     },
     "metadata": {},
     "output_type": "display_data"
    },
    {
     "data": {
      "image/png": "[encoded data removed]",
      "text/plain": [
       "<matplotlib.figure.Figure at 0x11c54e2d0>"
      ]
     },
     "metadata": {},
     "output_type": "display_data"
    }
   ],
   "source": [
    "plt.figure()\n",
    "processed_df[[\n",
    " 'review_scores_rating',\n",
    " 'review_scores_accuracy',\n",
    " 'review_scores_cleanliness',\n",
    " 'review_scores_checkin',\n",
    " 'review_scores_communication',\n",
    " 'review_scores_location',\n",
    " 'review_scores_value'\n",
    "]].plot.hist(alpha =.5, bins=50)\n",
    "plt.show();"
   ]
  },
  {
   "cell_type": "code",
   "execution_count": 12,
   "metadata": {},
   "outputs": [],
   "source": [
    "# if no record for 'security_deposit', 'cleaning_fee' is found, assume to be asking for nothing:\n",
    "processed_df['security_deposit'] = processed_df['security_deposit'].fillna(0)/processed_df.price\n",
    "processed_df['cleaning_fee'    ] = processed_df['cleaning_fee'    ].fillna(0)/processed_df.price\n",
    "\n",
    "# convert discounts:\n",
    "processed_df['monthly_price'] = ((processed_df.price*30-processed_df.monthly_price)/(processed_df.price*30))\n",
    "processed_df['weekly_price' ] = ((processed_df.price*7 -processed_df.weekly_price )/(processed_df.price*7 ))\n",
    "\n",
    "# convert prices of each listings to its ratio compared against the average price in its city:\n",
    "# [TODO] listings_df.price = listings_df.price/\n",
    "# rename columns:\n",
    "processed_df.rename(columns={'monthly_price': 'monthly_discount_percentage', \n",
    "                             'weekly_price': 'weekly_discount_percentage',\n",
    "                             'security_deposit': 'security_deposit_ratio_to_price',\n",
    "                             'cleaning_fee': 'cleaning_fee_ratio_to_price'\n",
    "                            }, inplace=True)\n"
   ]
  },
  {
   "cell_type": "code",
   "execution_count": 16,
   "metadata": {},
   "outputs": [
    {
     "name": "stdout",
     "output_type": "stream",
     "text": [
      "List of Columns and Numbers of Nulls There:\n",
      "Series([], dtype: int64)\n",
      "Total amount of entries: 696\n"
     ]
    }
   ],
   "source": [
    "print \"List of Columns and Numbers of Nulls There:\"\n",
    "null_counts = processed_df.isnull().sum()\n",
    "print null_counts[null_counts>0]\n",
    "print \"Total amount of entries:\", len(processed_df)"
   ]
  },
  {
   "cell_type": "code",
   "execution_count": 14,
   "metadata": {},
   "outputs": [],
   "source": [
    "# Convert boolean columns to binary values:\n",
    "boolean_columns = ['host_is_superhost', 'host_identity_verified', 'is_location_exact', 'requires_license', 'instant_bookable', 'require_guest_profile_picture', 'require_guest_phone_verification']\n",
    "\n",
    "processed_df.replace({'t': 1, 'f':0}, inplace = True)"
   ]
  },
  {
   "cell_type": "code",
   "execution_count": 17,
   "metadata": {},
   "outputs": [],
   "source": [
    "cols_in_date = [\n",
    "    'host_since',\n",
    "    'first_review',\n",
    "    'last_review']\n",
    "airbnb_founded_date = pd.to_datetime('2008-08-01')\n",
    "for col in cols_in_date:\n",
    "    processed_df[col] = ((pd.to_datetime(processed_df[col])-airbnb_founded_date) / np.timedelta64(1, 'D')).astype('int')"
   ]
  },
  {
   "cell_type": "markdown",
   "metadata": {},
   "source": [
    "Save to file:"
   ]
  },
  {
   "cell_type": "code",
   "execution_count": 18,
   "metadata": {},
   "outputs": [],
   "source": [
    "processed_df.to_csv('datasets/Asheville/Asheville-processed.csv', index=False)"
   ]
  },
  {
   "cell_type": "code",
   "execution_count": null,
   "metadata": {},
   "outputs": [],
   "source": []
  }
 ],
 "metadata": {
  "kernelspec": {
   "display_name": "Python 2",
   "language": "python",
   "name": "python2"
  },
  "language_info": {
   "codemirror_mode": {
    "name": "ipython",
    "version": 2
   },
   "file_extension": ".py",
   "mimetype": "text/x-python",
   "name": "python",
   "nbconvert_exporter": "python",
   "pygments_lexer": "ipython2",
   "version": "2.7.13"
  }
 },
 "nbformat": 4,
 "nbformat_minor": 2
}
