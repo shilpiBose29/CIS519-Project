{
 "cells": [
  {
   "cell_type": "code",
   "execution_count": 78,
   "metadata": {},
   "outputs": [],
   "source": [
    "import pandas as pd\n",
    "import matplotlib.pyplot as plt\n",
    "%matplotlib inline"
   ]
  },
  {
   "cell_type": "code",
   "execution_count": 31,
   "metadata": {},
   "outputs": [
    {
     "data": {
      "text/plain": [
       "(34209, 2)"
      ]
     },
     "execution_count": 31,
     "metadata": {},
     "output_type": "execute_result"
    }
   ],
   "source": [
    "amn_df = pd.read_csv('datasets/All_listings/sample_listings_amenities.csv').dropna()\n",
    "amn_df.shape"
   ]
  },
  {
   "cell_type": "code",
   "execution_count": 32,
   "metadata": {},
   "outputs": [
    {
     "data": {
      "text/plain": [
       "0    {TV,Internet,\"Wireless Internet\",Kitchen,\"Elev...\n",
       "1    {Internet,\"Wireless Internet\",Kitchen,\"Buzzer/...\n",
       "2    {TV,\"Wireless Internet\",\"Air conditioning\",\"El...\n",
       "3    {TV,\"Cable TV\",Internet,\"Wireless Internet\",Ki...\n",
       "4    {TV,Internet,Kitchen,\"Elevator in building\",He...\n",
       "Name: amenities, dtype: object"
      ]
     },
     "execution_count": 32,
     "metadata": {},
     "output_type": "execute_result"
    }
   ],
   "source": [
    "amenities_col = amn_df['amenities']\n",
    "amenities_col.head()"
   ]
  },
  {
   "cell_type": "code",
   "execution_count": 33,
   "metadata": {},
   "outputs": [],
   "source": [
    "from sklearn.feature_extraction.text import CountVectorizer\n",
    "vectorizer = CountVectorizer(token_pattern = ur'(?!,|$)(.+?)(?=,|$)')\n",
    "# first, get rid of all the '\\\"'s:\n",
    "amenities_col = amenities_col.str[1:-1].replace('\\\"', '')\n",
    "# Now actually transform the data:\n",
    "X = vectorizer.fit_transform(amenities_col)\n",
    "labels = vectorizer.get_feature_names()\n"
   ]
  },
  {
   "cell_type": "code",
   "execution_count": 34,
   "metadata": {},
   "outputs": [
    {
     "data": {
      "text/plain": [
       "<34209x123 sparse matrix of type '<type 'numpy.int64'>'\n",
       "\twith 559955 stored elements in Compressed Sparse Row format>"
      ]
     },
     "execution_count": 34,
     "metadata": {},
     "output_type": "execute_result"
    }
   ],
   "source": [
    "X"
   ]
  },
  {
   "cell_type": "code",
   "execution_count": 35,
   "metadata": {},
   "outputs": [
    {
     "data": {
      "text/html": [
       "<div>\n",
       "<style scoped>\n",
       "    .dataframe tbody tr th:only-of-type {\n",
       "        vertical-align: middle;\n",
       "    }\n",
       "\n",
       "    .dataframe tbody tr th {\n",
       "        vertical-align: top;\n",
       "    }\n",
       "\n",
       "    .dataframe thead th {\n",
       "        text-align: right;\n",
       "    }\n",
       "</style>\n",
       "<table border=\"1\" class=\"dataframe\">\n",
       "  <thead>\n",
       "    <tr style=\"text-align: right;\">\n",
       "      <th></th>\n",
       "      <th>AMN_ smooth pathway to front door\"</th>\n",
       "      <th>AMN_\"24-hour check-in\"</th>\n",
       "      <th>AMN_\"accessible-height bed\"</th>\n",
       "      <th>AMN_\"accessible-height toilet\"</th>\n",
       "      <th>AMN_\"air conditioning\"</th>\n",
       "      <th>AMN_\"air purifier\"</th>\n",
       "      <th>AMN_\"baby bath\"</th>\n",
       "      <th>AMN_\"baby monitor\"</th>\n",
       "      <th>AMN_\"babysitter recommendations\"</th>\n",
       "      <th>AMN_\"bathtub with shower chair\"</th>\n",
       "      <th>...</th>\n",
       "      <th>AMN_other</th>\n",
       "      <th>AMN_oven</th>\n",
       "      <th>AMN_pool</th>\n",
       "      <th>AMN_refrigerator</th>\n",
       "      <th>AMN_shampoo</th>\n",
       "      <th>AMN_smartlock</th>\n",
       "      <th>AMN_stove</th>\n",
       "      <th>AMN_tv</th>\n",
       "      <th>AMN_washer</th>\n",
       "      <th>AMN_waterfront</th>\n",
       "    </tr>\n",
       "    <tr>\n",
       "      <th>id</th>\n",
       "      <th></th>\n",
       "      <th></th>\n",
       "      <th></th>\n",
       "      <th></th>\n",
       "      <th></th>\n",
       "      <th></th>\n",
       "      <th></th>\n",
       "      <th></th>\n",
       "      <th></th>\n",
       "      <th></th>\n",
       "      <th></th>\n",
       "      <th></th>\n",
       "      <th></th>\n",
       "      <th></th>\n",
       "      <th></th>\n",
       "      <th></th>\n",
       "      <th></th>\n",
       "      <th></th>\n",
       "      <th></th>\n",
       "      <th></th>\n",
       "      <th></th>\n",
       "    </tr>\n",
       "  </thead>\n",
       "  <tbody>\n",
       "    <tr>\n",
       "      <th>931833</th>\n",
       "      <td>0</td>\n",
       "      <td>0</td>\n",
       "      <td>0</td>\n",
       "      <td>0</td>\n",
       "      <td>0</td>\n",
       "      <td>0</td>\n",
       "      <td>0</td>\n",
       "      <td>0</td>\n",
       "      <td>0</td>\n",
       "      <td>0</td>\n",
       "      <td>...</td>\n",
       "      <td>0</td>\n",
       "      <td>0</td>\n",
       "      <td>0</td>\n",
       "      <td>0</td>\n",
       "      <td>0</td>\n",
       "      <td>0</td>\n",
       "      <td>0</td>\n",
       "      <td>1</td>\n",
       "      <td>1</td>\n",
       "      <td>0</td>\n",
       "    </tr>\n",
       "    <tr>\n",
       "      <th>5359638</th>\n",
       "      <td>0</td>\n",
       "      <td>1</td>\n",
       "      <td>0</td>\n",
       "      <td>0</td>\n",
       "      <td>0</td>\n",
       "      <td>0</td>\n",
       "      <td>0</td>\n",
       "      <td>0</td>\n",
       "      <td>0</td>\n",
       "      <td>0</td>\n",
       "      <td>...</td>\n",
       "      <td>0</td>\n",
       "      <td>0</td>\n",
       "      <td>0</td>\n",
       "      <td>0</td>\n",
       "      <td>1</td>\n",
       "      <td>0</td>\n",
       "      <td>0</td>\n",
       "      <td>0</td>\n",
       "      <td>1</td>\n",
       "      <td>0</td>\n",
       "    </tr>\n",
       "    <tr>\n",
       "      <th>13327397</th>\n",
       "      <td>0</td>\n",
       "      <td>0</td>\n",
       "      <td>0</td>\n",
       "      <td>0</td>\n",
       "      <td>1</td>\n",
       "      <td>0</td>\n",
       "      <td>0</td>\n",
       "      <td>0</td>\n",
       "      <td>0</td>\n",
       "      <td>0</td>\n",
       "      <td>...</td>\n",
       "      <td>0</td>\n",
       "      <td>0</td>\n",
       "      <td>0</td>\n",
       "      <td>0</td>\n",
       "      <td>1</td>\n",
       "      <td>0</td>\n",
       "      <td>0</td>\n",
       "      <td>1</td>\n",
       "      <td>1</td>\n",
       "      <td>0</td>\n",
       "    </tr>\n",
       "    <tr>\n",
       "      <th>726391</th>\n",
       "      <td>0</td>\n",
       "      <td>0</td>\n",
       "      <td>0</td>\n",
       "      <td>0</td>\n",
       "      <td>0</td>\n",
       "      <td>0</td>\n",
       "      <td>0</td>\n",
       "      <td>0</td>\n",
       "      <td>0</td>\n",
       "      <td>0</td>\n",
       "      <td>...</td>\n",
       "      <td>0</td>\n",
       "      <td>0</td>\n",
       "      <td>0</td>\n",
       "      <td>0</td>\n",
       "      <td>0</td>\n",
       "      <td>0</td>\n",
       "      <td>0</td>\n",
       "      <td>1</td>\n",
       "      <td>0</td>\n",
       "      <td>0</td>\n",
       "    </tr>\n",
       "    <tr>\n",
       "      <th>14463911</th>\n",
       "      <td>0</td>\n",
       "      <td>0</td>\n",
       "      <td>0</td>\n",
       "      <td>0</td>\n",
       "      <td>0</td>\n",
       "      <td>0</td>\n",
       "      <td>0</td>\n",
       "      <td>0</td>\n",
       "      <td>0</td>\n",
       "      <td>0</td>\n",
       "      <td>...</td>\n",
       "      <td>0</td>\n",
       "      <td>0</td>\n",
       "      <td>0</td>\n",
       "      <td>0</td>\n",
       "      <td>0</td>\n",
       "      <td>0</td>\n",
       "      <td>0</td>\n",
       "      <td>1</td>\n",
       "      <td>0</td>\n",
       "      <td>0</td>\n",
       "    </tr>\n",
       "  </tbody>\n",
       "</table>\n",
       "<p>5 rows × 123 columns</p>\n",
       "</div>"
      ],
      "text/plain": [
       "          AMN_ smooth pathway to front door\"  AMN_\"24-hour check-in\"  \\\n",
       "id                                                                     \n",
       "931833                                     0                       0   \n",
       "5359638                                    0                       1   \n",
       "13327397                                   0                       0   \n",
       "726391                                     0                       0   \n",
       "14463911                                   0                       0   \n",
       "\n",
       "          AMN_\"accessible-height bed\"  AMN_\"accessible-height toilet\"  \\\n",
       "id                                                                      \n",
       "931833                              0                               0   \n",
       "5359638                             0                               0   \n",
       "13327397                            0                               0   \n",
       "726391                              0                               0   \n",
       "14463911                            0                               0   \n",
       "\n",
       "          AMN_\"air conditioning\"  AMN_\"air purifier\"  AMN_\"baby bath\"  \\\n",
       "id                                                                      \n",
       "931833                         0                   0                0   \n",
       "5359638                        0                   0                0   \n",
       "13327397                       1                   0                0   \n",
       "726391                         0                   0                0   \n",
       "14463911                       0                   0                0   \n",
       "\n",
       "          AMN_\"baby monitor\"  AMN_\"babysitter recommendations\"  \\\n",
       "id                                                               \n",
       "931833                     0                                 0   \n",
       "5359638                    0                                 0   \n",
       "13327397                   0                                 0   \n",
       "726391                     0                                 0   \n",
       "14463911                   0                                 0   \n",
       "\n",
       "          AMN_\"bathtub with shower chair\"       ...        AMN_other  \\\n",
       "id                                              ...                    \n",
       "931833                                  0       ...                0   \n",
       "5359638                                 0       ...                0   \n",
       "13327397                                0       ...                0   \n",
       "726391                                  0       ...                0   \n",
       "14463911                                0       ...                0   \n",
       "\n",
       "          AMN_oven  AMN_pool  AMN_refrigerator  AMN_shampoo  AMN_smartlock  \\\n",
       "id                                                                           \n",
       "931833           0         0                 0            0              0   \n",
       "5359638          0         0                 0            1              0   \n",
       "13327397         0         0                 0            1              0   \n",
       "726391           0         0                 0            0              0   \n",
       "14463911         0         0                 0            0              0   \n",
       "\n",
       "          AMN_stove  AMN_tv  AMN_washer  AMN_waterfront  \n",
       "id                                                       \n",
       "931833            0       1           1               0  \n",
       "5359638           0       0           1               0  \n",
       "13327397          0       1           1               0  \n",
       "726391            0       1           0               0  \n",
       "14463911          0       1           0               0  \n",
       "\n",
       "[5 rows x 123 columns]"
      ]
     },
     "execution_count": 35,
     "metadata": {},
     "output_type": "execute_result"
    }
   ],
   "source": [
    "expanded_df = pd.DataFrame(X.todense(), columns = ['AMN_'+label for label in labels])\n",
    "expanded_df.set_index(amn_df.id, inplace=True)\n",
    "expanded_df.head()"
   ]
  },
  {
   "cell_type": "code",
   "execution_count": 38,
   "metadata": {},
   "outputs": [],
   "source": [
    "expanded_df.to_csv('datasets/All_listings/sample_listings_amenities_expanded.csv', encoding='utf-8')"
   ]
  },
  {
   "cell_type": "code",
   "execution_count": 53,
   "metadata": {},
   "outputs": [],
   "source": [
    "sums=X.sum(axis=0)"
   ]
  },
  {
   "cell_type": "code",
   "execution_count": 89,
   "metadata": {},
   "outputs": [
    {
     "data": {
      "image/png": "[encoded data removed]",
      "text/plain": [
       "<matplotlib.figure.Figure at 0x7f80460331d0>"
      ]
     },
     "metadata": {},
     "output_type": "display_data"
    }
   ],
   "source": [
    "sums_df=pd.DataFrame(sums)\n",
    "p = sums_df.T.sort_values(0).reset_index().iloc[:,1].plot()"
   ]
  },
  {
   "cell_type": "code",
   "execution_count": 62,
   "metadata": {},
   "outputs": [
    {
     "data": {
      "text/plain": [
       "34209"
      ]
     },
     "execution_count": 62,
     "metadata": {},
     "output_type": "execute_result"
    }
   ],
   "source": [
    "X.shape[0]"
   ]
  },
  {
   "cell_type": "code",
   "execution_count": null,
   "metadata": {},
   "outputs": [],
   "source": []
  }
 ],
 "metadata": {
  "kernelspec": {
   "display_name": "Python 2",
   "language": "python",
   "name": "python2"
  },
  "language_info": {
   "codemirror_mode": {
    "name": "ipython",
    "version": 2
   },
   "file_extension": ".py",
   "mimetype": "text/x-python",
   "name": "python",
   "nbconvert_exporter": "python",
   "pygments_lexer": "ipython2",
   "version": "2.7.14"
  }
 },
 "nbformat": 4,
 "nbformat_minor": 2
}
