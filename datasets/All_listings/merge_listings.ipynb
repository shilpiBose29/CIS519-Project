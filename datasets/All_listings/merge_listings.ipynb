{
 "cells": [
  {
   "cell_type": "markdown",
   "metadata": {},
   "source": [
    "### Create a dataframe for every city"
   ]
  },
  {
   "cell_type": "code",
   "execution_count": 22,
   "metadata": {},
   "outputs": [
    {
     "name": "stdout",
     "output_type": "stream",
     "text": [
      "START\n",
      "(56535, 95)\n",
      "FINISH\n"
     ]
    }
   ],
   "source": [
    "import numpy as np \n",
    "import pandas as pd\n",
    "import time\n",
    "import urllib\n",
    "\n",
    "\n",
    "def add_percentile_price(dataframe):\n",
    "    price = dataframe.price\n",
    "    df_rank = price.rank()\n",
    "    df_price_perc = df_rank.divide(len(df_rank))\n",
    "    dataframe['percentile_price'] = df_price_perc\n",
    "    return dataframe\n",
    "\n",
    "print('START')\n",
    "reviewFile='Paris_listings.csv'\n",
    "Paris = pd.read_csv(reviewFile, sep=',', header=0)\n",
    "print Paris.shape\n",
    "#print Paris.columns\n",
    "\n",
    "Paris = add_percentile_price(Paris)\n",
    "\n",
    "print('FINISH')"
   ]
  },
  {
   "cell_type": "code",
   "execution_count": 24,
   "metadata": {},
   "outputs": [
    {
     "name": "stdout",
     "output_type": "stream",
     "text": [
      "(53904, 95)\n",
      "FINISH\n"
     ]
    }
   ],
   "source": [
    "reviewFile='London_listings.csv'\n",
    "\n",
    "London = pd.read_csv(reviewFile, sep=',', header=0)\n",
    "print London.shape\n",
    "London = add_percentile_price(London)\n",
    "print('FINISH')"
   ]
  },
  {
   "cell_type": "code",
   "execution_count": 26,
   "metadata": {},
   "outputs": [
    {
     "name": "stdout",
     "output_type": "stream",
     "text": [
      "(25275, 95)\n",
      "FINISH\n"
     ]
    }
   ],
   "source": [
    "reviewFile='Rome_listings.csv'\n",
    "\n",
    "Rome = pd.read_csv(reviewFile, sep=',', header=0)\n",
    "print Rome.shape\n",
    "Rome = add_percentile_price(Rome)\n",
    "print('FINISH')"
   ]
  },
  {
   "cell_type": "code",
   "execution_count": 28,
   "metadata": {},
   "outputs": [
    {
     "name": "stdout",
     "output_type": "stream",
     "text": [
      "(44317, 96)\n",
      "FINISH\n"
     ]
    }
   ],
   "source": [
    "reviewFile='NewYork_listings.csv'\n",
    "\n",
    "NewYork = pd.read_csv(reviewFile, sep=',', header=0)\n",
    "print NewYork.shape\n",
    "NewYork = add_percentile_price(NewYork)\n",
    "print('FINISH')"
   ]
  },
  {
   "cell_type": "code",
   "execution_count": 29,
   "metadata": {},
   "outputs": [
    {
     "name": "stdout",
     "output_type": "stream",
     "text": [
      "(13335, 95)\n",
      "FINISH\n"
     ]
    }
   ],
   "source": [
    "reviewFile='Madrid_listings.csv'\n",
    "\n",
    "Madrid = pd.read_csv(reviewFile, sep=',', header=0)\n",
    "print Madrid.shape\n",
    "Madrid = add_percentile_price(Madrid)\n",
    "print('FINISH')"
   ]
  },
  {
   "cell_type": "code",
   "execution_count": 30,
   "metadata": {},
   "outputs": [
    {
     "name": "stdout",
     "output_type": "stream",
     "text": [
      "(15181, 95)\n",
      "FINISH\n"
     ]
    }
   ],
   "source": [
    "reviewFile='Amsterdam_listings.csv'\n",
    "\n",
    "Amsterdam = pd.read_csv(reviewFile, sep=',', header=0)\n",
    "print Amsterdam.shape\n",
    "Amsterdam = add_percentile_price(Amsterdam)\n",
    "print('FINISH')"
   ]
  },
  {
   "cell_type": "code",
   "execution_count": 31,
   "metadata": {},
   "outputs": [
    {
     "name": "stdout",
     "output_type": "stream",
     "text": [
      "(5127, 95)\n",
      "FINISH\n"
     ]
    }
   ],
   "source": [
    "reviewFile='Athens_listings.csv'\n",
    "\n",
    "Athens = pd.read_csv(reviewFile, sep=',', header=0)\n",
    "print Athens.shape\n",
    "Athens = add_percentile_price(Athens)\n",
    "print('FINISH')"
   ]
  },
  {
   "cell_type": "code",
   "execution_count": 33,
   "metadata": {},
   "outputs": [
    {
     "name": "stdout",
     "output_type": "stream",
     "text": [
      "(17653, 95)\n",
      "FINISH\n"
     ]
    }
   ],
   "source": [
    "reviewFile='Barcelona_listings.csv'\n",
    "\n",
    "Barcelona = pd.read_csv(reviewFile, sep=',', header=0)\n",
    "print Barcelona.shape\n",
    "Barcelona = add_percentile_price(Barcelona)\n",
    "print('FINISH')"
   ]
  },
  {
   "cell_type": "code",
   "execution_count": 34,
   "metadata": {},
   "outputs": [
    {
     "name": "stdout",
     "output_type": "stream",
     "text": [
      "(20576, 95)\n",
      "FINISH\n"
     ]
    }
   ],
   "source": [
    "reviewFile='Berlin_listings.csv'\n",
    "\n",
    "Berlin = pd.read_csv(reviewFile, sep=',', header=0)\n",
    "print Berlin.shape\n",
    "Berlin = add_percentile_price(Berlin)\n",
    "print('FINISH')"
   ]
  },
  {
   "cell_type": "code",
   "execution_count": 47,
   "metadata": {},
   "outputs": [
    {
     "name": "stdout",
     "output_type": "stream",
     "text": [
      "(4870, 95)\n",
      "FINISH\n"
     ]
    }
   ],
   "source": [
    "reviewFile='Boston_listings.csv'\n",
    "\n",
    "Boston = pd.read_csv(reviewFile, sep=',', header=0)\n",
    "print Boston.shape\n",
    "Boston = add_percentile_price(Boston)\n",
    "print('FINISH')"
   ]
  },
  {
   "cell_type": "code",
   "execution_count": 37,
   "metadata": {},
   "outputs": [
    {
     "name": "stdout",
     "output_type": "stream",
     "text": [
      "(6192, 95)\n",
      "FINISH\n"
     ]
    }
   ],
   "source": [
    "reviewFile='Brussels_listings.csv'\n",
    "\n",
    "Brussels = pd.read_csv(reviewFile, sep=',', header=0)\n",
    "print Brussels.shape\n",
    "Brussels = add_percentile_price(Brussels)\n",
    "print('FINISH')"
   ]
  },
  {
   "cell_type": "code",
   "execution_count": 38,
   "metadata": {},
   "outputs": [
    {
     "name": "stdout",
     "output_type": "stream",
     "text": [
      "(5207, 95)\n",
      "FINISH\n"
     ]
    }
   ],
   "source": [
    "reviewFile='Chicago_listings.csv'\n",
    "\n",
    "Chicago = pd.read_csv(reviewFile, sep=',', header=0)\n",
    "print Chicago.shape\n",
    "Chicago = add_percentile_price(Chicago)\n",
    "print('FINISH')"
   ]
  },
  {
   "cell_type": "code",
   "execution_count": 39,
   "metadata": {},
   "outputs": [
    {
     "name": "stdout",
     "output_type": "stream",
     "text": [
      "(20545, 95)\n",
      "FINISH\n"
     ]
    }
   ],
   "source": [
    "reviewFile='Copenhagen_listings.csv'\n",
    "\n",
    "Copenhagen = pd.read_csv(reviewFile, sep=',', header=0)\n",
    "print Copenhagen.shape\n",
    "Copenhagen = add_percentile_price(Copenhagen)\n",
    "print('FINISH')"
   ]
  },
  {
   "cell_type": "code",
   "execution_count": 40,
   "metadata": {},
   "outputs": [
    {
     "name": "stdout",
     "output_type": "stream",
     "text": [
      "(6729, 95)\n",
      "FINISH\n"
     ]
    }
   ],
   "source": [
    "reviewFile='Dublin_listings.csv'\n",
    "\n",
    "Dublin = pd.read_csv(reviewFile, sep=',', header=0)\n",
    "print Dublin.shape\n",
    "Dublin = add_percentile_price(Dublin)\n",
    "print('FINISH')"
   ]
  },
  {
   "cell_type": "code",
   "execution_count": 46,
   "metadata": {},
   "outputs": [
    {
     "name": "stdout",
     "output_type": "stream",
     "text": [
      "(9638, 95)\n",
      "FINISH\n"
     ]
    }
   ],
   "source": [
    "reviewFile='Edinburgh_listings.csv'\n",
    "\n",
    "Edinburgh = pd.read_csv(reviewFile, sep=',', header=0)\n",
    "print Edinburgh.shape\n",
    "Edinburgh = add_percentile_price(Edinburgh)\n",
    "print('FINISH')"
   ]
  },
  {
   "cell_type": "code",
   "execution_count": 42,
   "metadata": {},
   "outputs": [
    {
     "name": "stdout",
     "output_type": "stream",
     "text": [
      "(2408, 95)\n",
      "FINISH\n"
     ]
    }
   ],
   "source": [
    "reviewFile='Geneva_listings.csv'\n",
    "\n",
    "Geneva = pd.read_csv(reviewFile, sep=',', header=0)\n",
    "print Geneva.shape\n",
    "Geneva = add_percentile_price(Geneva)\n",
    "print('FINISH')"
   ]
  },
  {
   "cell_type": "code",
   "execution_count": 43,
   "metadata": {},
   "outputs": [
    {
     "name": "stdout",
     "output_type": "stream",
     "text": [
      "(6474, 95)\n",
      "FINISH\n"
     ]
    }
   ],
   "source": [
    "reviewFile='HongKong_listings.csv'\n",
    "\n",
    "HongKong = pd.read_csv(reviewFile, sep=',', header=0)\n",
    "print HongKong.shape\n",
    "HongKong = add_percentile_price(HongKong)\n",
    "print('FINISH')"
   ]
  },
  {
   "cell_type": "code",
   "execution_count": 45,
   "metadata": {},
   "outputs": [
    {
     "name": "stdout",
     "output_type": "stream",
     "text": [
      "(31253, 95)\n",
      "FINISH\n"
     ]
    }
   ],
   "source": [
    "reviewFile='LosAngeles_listings.csv'\n",
    "\n",
    "LosAngeles = pd.read_csv(reviewFile, sep=',', header=0)\n",
    "print LosAngeles.shape\n",
    "LosAngeles = add_percentile_price(LosAngeles)\n",
    "print('FINISH')"
   ]
  },
  {
   "cell_type": "markdown",
   "metadata": {},
   "source": [
    "### Concatenate all cities into one big dataframe"
   ]
  },
  {
   "cell_type": "code",
   "execution_count": 96,
   "metadata": {},
   "outputs": [
    {
     "name": "stdout",
     "output_type": "stream",
     "text": [
      "(330711, 97)\n"
     ]
    }
   ],
   "source": [
    "#did not use boston or edinburgh\n",
    "cities = [Paris, London, Rome, NewYork, Madrid, Amsterdam, Athens, Barcelona, Berlin, Brussels, Chicago, Copenhagen, Dublin, Geneva, HongKong, LosAngeles]\n",
    "\n",
    "all_cities = pd.concat(cities)\n",
    "\n",
    "print all_cities.shape"
   ]
  },
  {
   "cell_type": "markdown",
   "metadata": {},
   "source": [
    "### Print shape and description of new dataframe"
   ]
  },
  {
   "cell_type": "code",
   "execution_count": 99,
   "metadata": {},
   "outputs": [
    {
     "name": "stdout",
     "output_type": "stream",
     "text": [
      "(330711, 97)\n",
      "        accommodates  availability_30  availability_365  availability_60  \\\n",
      "count  330711.000000    330711.000000     330711.000000    330711.000000   \n",
      "mean        3.126237         9.099365        158.401883        21.315209   \n",
      "std         1.915644        10.773867        141.402927        22.099206   \n",
      "min         1.000000         0.000000          0.000000         0.000000   \n",
      "25%         2.000000         0.000000          5.000000         0.000000   \n",
      "50%         2.000000         4.000000        127.000000        14.000000   \n",
      "75%         4.000000        17.000000        309.000000        40.000000   \n",
      "max        17.000000        30.000000        365.000000        60.000000   \n",
      "\n",
      "       availability_90      bathrooms       bedrooms           beds  \\\n",
      "count    330711.000000  329693.000000  330236.000000  330066.000000   \n",
      "mean         35.265734       1.194329       1.284693       1.826592   \n",
      "std          33.746497       0.529880       0.842776       1.354172   \n",
      "min           0.000000       0.000000       0.000000       0.000000   \n",
      "25%           0.000000       1.000000       1.000000       1.000000   \n",
      "50%          27.000000       1.000000       1.000000       1.000000   \n",
      "75%          67.000000       1.000000       2.000000       2.000000   \n",
      "max          90.000000      15.500000      14.000000      40.000000   \n",
      "\n",
      "       calculated_host_listings_count  guests_included     ...       \\\n",
      "count                   330711.000000    330711.000000     ...        \n",
      "mean                         5.471572         1.503993     ...        \n",
      "std                         34.381870         1.104638     ...        \n",
      "min                          1.000000         0.000000     ...        \n",
      "25%                          1.000000         1.000000     ...        \n",
      "50%                          1.000000         1.000000     ...        \n",
      "75%                          2.000000         2.000000     ...        \n",
      "max                        711.000000        16.000000     ...        \n",
      "\n",
      "       review_scores_accuracy  review_scores_checkin  \\\n",
      "count           248236.000000          247923.000000   \n",
      "mean                 9.502643               9.669534   \n",
      "std                  0.867143               0.748004   \n",
      "min                  2.000000               2.000000   \n",
      "25%                  9.000000              10.000000   \n",
      "50%                 10.000000              10.000000   \n",
      "75%                 10.000000              10.000000   \n",
      "max                 10.000000              10.000000   \n",
      "\n",
      "       review_scores_cleanliness  review_scores_communication  \\\n",
      "count              248384.000000                248330.000000   \n",
      "mean                    9.280779                     9.692321   \n",
      "std                     1.054356                     0.735011   \n",
      "min                     2.000000                     2.000000   \n",
      "25%                     9.000000                    10.000000   \n",
      "50%                    10.000000                    10.000000   \n",
      "75%                    10.000000                    10.000000   \n",
      "max                    10.000000                    10.000000   \n",
      "\n",
      "       review_scores_location  review_scores_rating  review_scores_value  \\\n",
      "count           247941.000000         248809.000000        247867.000000   \n",
      "mean                 9.440129             92.573806             9.287836   \n",
      "std                  0.815541              8.674792             0.911098   \n",
      "min                  2.000000             20.000000             2.000000   \n",
      "25%                  9.000000             90.000000             9.000000   \n",
      "50%                 10.000000             95.000000             9.000000   \n",
      "75%                 10.000000             99.000000            10.000000   \n",
      "max                 10.000000            100.000000            10.000000   \n",
      "\n",
      "       reviews_per_month     scrape_id  square_feet  \n",
      "count      252842.000000  3.307110e+05    8349.0000  \n",
      "mean            1.417826  2.017025e+13     496.9788  \n",
      "std             1.602541  1.582905e+09     670.1475  \n",
      "min             0.010000  2.016081e+13       0.0000  \n",
      "25%             0.310000  2.017040e+13       0.0000  \n",
      "50%             0.850000  2.017041e+13     377.0000  \n",
      "75%             2.000000  2.017051e+13     753.0000  \n",
      "max            90.000000  2.017100e+13   21528.0000  \n",
      "\n",
      "[8 rows x 30 columns]\n"
     ]
    }
   ],
   "source": [
    "print all_cities.shape\n",
    "\n",
    "print all_cities.describe()"
   ]
  },
  {
   "cell_type": "code",
   "execution_count": 100,
   "metadata": {},
   "outputs": [
    {
     "name": "stdout",
     "output_type": "stream",
     "text": [
      "                                              access  accommodates  \\\n",
      "0  Petite précision : 5ème étage sans ascenseur m...             6   \n",
      "1                                                NaN             2   \n",
      "2                                                NaN             3   \n",
      "3  Vous aurez accès à l'ensemble du studio et bal...             2   \n",
      "\n",
      "                                           amenities  availability_30  \\\n",
      "0  {TV,\"Cable TV\",Internet,\"Wireless Internet\",Ki...                2   \n",
      "1  {TV,\"Wireless Internet\",Kitchen,Heating,\"Smoke...                0   \n",
      "2  {Internet,Kitchen,\"Smoking allowed\",\"Buzzer/wi...               30   \n",
      "3  {TV,Internet,\"Wireless Internet\",\"Wheelchair a...                2   \n",
      "\n",
      "   availability_365  availability_60  availability_90  bathrooms  bed_type  \\\n",
      "0               282                9               11        1.0  Real Bed   \n",
      "1                 0                0                0        1.0  Real Bed   \n",
      "2               365               60               90        1.0  Real Bed   \n",
      "3                 2                2                2        1.0     Couch   \n",
      "\n",
      "   bedrooms   ...                                                space  \\\n",
      "0       1.0   ...                                                  NaN   \n",
      "1       0.0   ...                                                  NaN   \n",
      "2       1.0   ...                                                  NaN   \n",
      "3       0.0   ...    Je vous propose un studio lumineux de 32m2 sit...   \n",
      "\n",
      "   square_feet          state                                        street  \\\n",
      "0          NaN  Île-de-France  Bastille, Paris, Île-de-France 75012, France   \n",
      "1          NaN  Île-de-France    Nation, Paris, Île-de-France 75012, France   \n",
      "2          NaN  Île-de-France    Nation, Paris, Île-de-France 75012, France   \n",
      "3          NaN  Île-de-France            Paris, Île-de-France 75012, France   \n",
      "\n",
      "                                             summary  \\\n",
      "0  Cosy petit appartement de 60m2 situé aux pieds...   \n",
      "1  This bright studio is located in an Haussmann ...   \n",
      "2  The apartment is located in Nation (Paris’ eas...   \n",
      "3                                          Bonjour !   \n",
      "\n",
      "                                       thumbnail_url  \\\n",
      "0                                                NaN   \n",
      "1                                                NaN   \n",
      "2                                                NaN   \n",
      "3  https://a0.muscache.com/im/pictures/5aecbac9-0...   \n",
      "\n",
      "                                             transit weekly_price  \\\n",
      "0  Métros à proximité :  . Ledru Rollin ligne 8 ....      $500.00   \n",
      "1                                                NaN      $350.00   \n",
      "2                                                NaN          NaN   \n",
      "3  Le quartier est très bien desservi par les tra...          NaN   \n",
      "\n",
      "                                      xl_picture_url zipcode  \n",
      "0                                                NaN   75012  \n",
      "1                                                NaN   75012  \n",
      "2                                                NaN   75012  \n",
      "3  https://a0.muscache.com/im/pictures/5aecbac9-0...   75012  \n",
      "\n",
      "[4 rows x 97 columns]\n"
     ]
    }
   ],
   "source": [
    "print all_cities[0:4]"
   ]
  },
  {
   "cell_type": "markdown",
   "metadata": {},
   "source": [
    "### Create the file with all listings together"
   ]
  },
  {
   "cell_type": "code",
   "execution_count": 101,
   "metadata": {},
   "outputs": [
    {
     "name": "stdout",
     "output_type": "stream",
     "text": [
      "done\n"
     ]
    }
   ],
   "source": [
    "file_name = 'all_cities_listings.csv'\n",
    "all_cities.to_csv(file_name, sep=',', encoding='utf-8')\n",
    "\n",
    "#with open('my_csv.csv', 'a') as f:\n",
    "#    df.to_csv(f, header=False)\n",
    "\n",
    "print('done')"
   ]
  },
  {
   "cell_type": "code",
   "execution_count": 7,
   "metadata": {},
   "outputs": [
    {
     "name": "stdout",
     "output_type": "stream",
     "text": [
      "done\n"
     ]
    }
   ],
   "source": [
    "import pandas as pd\n",
    "reviewFile='all_cities_listings.csv'\n",
    "\n",
    "all_listings = pd.read_csv(reviewFile, sep=',', header=0)\n",
    "\n",
    "print('done')"
   ]
  },
  {
   "cell_type": "code",
   "execution_count": 8,
   "metadata": {},
   "outputs": [
    {
     "name": "stdout",
     "output_type": "stream",
     "text": [
      "0    {TV,\"Cable TV\",Internet,\"Wireless Internet\",Ki...\n",
      "1    {TV,\"Wireless Internet\",Kitchen,Heating,\"Smoke...\n",
      "2    {Internet,Kitchen,\"Smoking allowed\",\"Buzzer/wi...\n",
      "3    {TV,Internet,\"Wireless Internet\",\"Wheelchair a...\n",
      "4    {TV,Internet,\"Wireless Internet\",Kitchen,\"Smok...\n",
      "5    {TV,\"Wireless Internet\",Kitchen,\"Indoor firepl...\n",
      "6    {TV,Internet,\"Wireless Internet\",Kitchen,Break...\n",
      "7    {TV,\"Wireless Internet\",Kitchen,\"Elevator in b...\n",
      "8    {TV,\"Cable TV\",Internet,\"Wireless Internet\",Ki...\n",
      "9    {TV,Internet,\"Wireless Internet\",Kitchen,\"Elev...\n",
      "Name: amenities, dtype: object\n"
     ]
    }
   ],
   "source": [
    "print all_listings.amenities[0:10]"
   ]
  },
  {
   "cell_type": "code",
   "execution_count": 9,
   "metadata": {},
   "outputs": [
    {
     "name": "stdout",
     "output_type": "stream",
     "text": [
      "Index([u'Unnamed: 0', u'access', u'accommodates', u'amenities',\n",
      "       u'availability_30', u'availability_365', u'availability_60',\n",
      "       u'availability_90', u'bathrooms', u'bed_type', u'bedrooms', u'beds',\n",
      "       u'calculated_host_listings_count', u'calendar_last_scraped',\n",
      "       u'calendar_updated', u'cancellation_policy', u'city', u'cleaning_fee',\n",
      "       u'country', u'country_code', u'description', u'experiences_offered',\n",
      "       u'extra_people', u'first_review', u'guests_included',\n",
      "       u'has_availability', u'host_about', u'host_acceptance_rate',\n",
      "       u'host_has_profile_pic', u'host_id', u'host_identity_verified',\n",
      "       u'host_is_superhost', u'host_listings_count', u'host_location',\n",
      "       u'host_name', u'host_neighbourhood', u'host_picture_url',\n",
      "       u'host_response_rate', u'host_response_time', u'host_since',\n",
      "       u'host_thumbnail_url', u'host_total_listings_count', u'host_url',\n",
      "       u'host_verifications', u'house_rules', u'id', u'instant_bookable',\n",
      "       u'interaction', u'is_business_travel_ready', u'is_location_exact',\n",
      "       u'jurisdiction_names', u'last_review', u'last_scraped', u'latitude',\n",
      "       u'license', u'listing_url', u'longitude', u'market', u'maximum_nights',\n",
      "       u'medium_url', u'minimum_nights', u'monthly_price', u'name',\n",
      "       u'neighborhood_overview', u'neighbourhood', u'neighbourhood_cleansed',\n",
      "       u'neighbourhood_group_cleansed', u'notes', u'number_of_reviews',\n",
      "       u'percentile_price', u'picture_url', u'price', u'property_type',\n",
      "       u'require_guest_phone_verification', u'require_guest_profile_picture',\n",
      "       u'requires_license', u'review_scores_accuracy',\n",
      "       u'review_scores_checkin', u'review_scores_cleanliness',\n",
      "       u'review_scores_communication', u'review_scores_location',\n",
      "       u'review_scores_rating', u'review_scores_value', u'reviews_per_month',\n",
      "       u'room_type', u'scrape_id', u'security_deposit', u'smart_location',\n",
      "       u'space', u'square_feet', u'state', u'street', u'summary',\n",
      "       u'thumbnail_url', u'transit', u'weekly_price', u'xl_picture_url',\n",
      "       u'zipcode'],\n",
      "      dtype='object')\n"
     ]
    }
   ],
   "source": [
    "print all_listings.columns"
   ]
  },
  {
   "cell_type": "code",
   "execution_count": 10,
   "metadata": {
    "collapsed": true
   },
   "outputs": [],
   "source": [
    "all_listings_simple = all_listings[['amenities','id']]"
   ]
  },
  {
   "cell_type": "code",
   "execution_count": 11,
   "metadata": {},
   "outputs": [
    {
     "name": "stdout",
     "output_type": "stream",
     "text": [
      "                                           amenities        id\n",
      "0  {TV,\"Cable TV\",Internet,\"Wireless Internet\",Ki...   3508970\n",
      "1  {TV,\"Wireless Internet\",Kitchen,Heating,\"Smoke...  13222966\n",
      "2  {Internet,Kitchen,\"Smoking allowed\",\"Buzzer/wi...   7337128\n",
      "3  {TV,Internet,\"Wireless Internet\",\"Wheelchair a...   5764597\n",
      "4  {TV,Internet,\"Wireless Internet\",Kitchen,\"Smok...   7861852\n",
      "5  {TV,\"Wireless Internet\",Kitchen,\"Indoor firepl...  14272211\n",
      "6  {TV,Internet,\"Wireless Internet\",Kitchen,Break...  12830452\n",
      "7  {TV,\"Wireless Internet\",Kitchen,\"Elevator in b...   4585376\n",
      "8  {TV,\"Cable TV\",Internet,\"Wireless Internet\",Ki...  11139002\n",
      "9  {TV,Internet,\"Wireless Internet\",Kitchen,\"Elev...   5765171\n"
     ]
    }
   ],
   "source": [
    "print all_listings_simple[0:10]"
   ]
  },
  {
   "cell_type": "code",
   "execution_count": 14,
   "metadata": {},
   "outputs": [
    {
     "name": "stdout",
     "output_type": "stream",
     "text": [
      "                                                  amenities\n",
      "id                                                         \n",
      "3508970   {TV,\"Cable TV\",Internet,\"Wireless Internet\",Ki...\n",
      "13222966  {TV,\"Wireless Internet\",Kitchen,Heating,\"Smoke...\n",
      "7337128   {Internet,Kitchen,\"Smoking allowed\",\"Buzzer/wi...\n",
      "5764597   {TV,Internet,\"Wireless Internet\",\"Wheelchair a...\n",
      "7861852   {TV,Internet,\"Wireless Internet\",Kitchen,\"Smok...\n",
      "14272211  {TV,\"Wireless Internet\",Kitchen,\"Indoor firepl...\n",
      "12830452  {TV,Internet,\"Wireless Internet\",Kitchen,Break...\n",
      "4585376   {TV,\"Wireless Internet\",Kitchen,\"Elevator in b...\n",
      "11139002  {TV,\"Cable TV\",Internet,\"Wireless Internet\",Ki...\n",
      "5765171   {TV,Internet,\"Wireless Internet\",Kitchen,\"Elev...\n"
     ]
    }
   ],
   "source": [
    "all_listings_simple = all_listings_simple.set_index('id')\n",
    "print(all_listings_simple[0:10])"
   ]
  },
  {
   "cell_type": "code",
   "execution_count": 15,
   "metadata": {},
   "outputs": [
    {
     "name": "stdout",
     "output_type": "stream",
     "text": [
      "done\n"
     ]
    }
   ],
   "source": [
    "file_name = 'all_listings_amenities.csv'\n",
    "all_listings_simple.to_csv(file_name, sep=',', encoding='utf-8')\n",
    "\n",
    "#with open('my_csv.csv', 'a') as f:\n",
    "#    df.to_csv(f, header=False)\n",
    "\n",
    "print('done')"
   ]
  },
  {
   "cell_type": "code",
   "execution_count": null,
   "metadata": {
    "collapsed": true
   },
   "outputs": [],
   "source": []
  }
 ],
 "metadata": {
  "kernelspec": {
   "display_name": "Python 2",
   "language": "python",
   "name": "python2"
  },
  "language_info": {
   "codemirror_mode": {
    "name": "ipython",
    "version": 2
   },
   "file_extension": ".py",
   "mimetype": "text/x-python",
   "name": "python",
   "nbconvert_exporter": "python",
   "pygments_lexer": "ipython2",
   "version": "2.7.14"
  }
 },
 "nbformat": 4,
 "nbformat_minor": 2
}
